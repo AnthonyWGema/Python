{
 "cells": [
  {
   "cell_type": "markdown",
   "id": "bfe4fd7a",
   "metadata": {},
   "source": [
    "<div> Liste des commandes utilisées pour réaliser le commit sur GitHub </div>\n",
    "<ul>\n",
    "    <li>git pull</li>\n",
    "    <li>git add .</li>\n",
    "    <li>git status</li>\n",
    "    <li>git commit -m \"commit du partiel\"</li>\n",
    "    <li>git push -u github master </li>\n",
    "</ul>"
   ]
  }
 ],
 "metadata": {
  "kernelspec": {
   "display_name": "Python 3",
   "language": "python",
   "name": "python3"
  },
  "language_info": {
   "codemirror_mode": {
    "name": "ipython",
    "version": 3
   },
   "file_extension": ".py",
   "mimetype": "text/x-python",
   "name": "python",
   "nbconvert_exporter": "python",
   "pygments_lexer": "ipython3",
   "version": "3.8.8"
  }
 },
 "nbformat": 4,
 "nbformat_minor": 5
}
